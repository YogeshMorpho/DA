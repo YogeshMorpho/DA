{
 "cells": [
  {
   "cell_type": "code",
   "execution_count": 1,
   "metadata": {},
   "outputs": [],
   "source": [
    "import pandas as pd\n",
    "from math import pow, sqrt\n",
    "import time\n",
    "import numpy as np\n",
    "from sklearn.metrics.pairwise import cosine_similarity\n",
    "from sklearn.feature_extraction.text import CountVectorizer"
   ]
  },
  {
   "cell_type": "code",
   "execution_count": 2,
   "metadata": {},
   "outputs": [
    {
     "data": {
      "text/html": [
       "<div>\n",
       "<style scoped>\n",
       "    .dataframe tbody tr th:only-of-type {\n",
       "        vertical-align: middle;\n",
       "    }\n",
       "\n",
       "    .dataframe tbody tr th {\n",
       "        vertical-align: top;\n",
       "    }\n",
       "\n",
       "    .dataframe thead th {\n",
       "        text-align: right;\n",
       "    }\n",
       "</style>\n",
       "<table border=\"1\" class=\"dataframe\">\n",
       "  <thead>\n",
       "    <tr style=\"text-align: right;\">\n",
       "      <th></th>\n",
       "      <th>movieId</th>\n",
       "      <th>title</th>\n",
       "      <th>genres</th>\n",
       "    </tr>\n",
       "  </thead>\n",
       "  <tbody>\n",
       "    <tr>\n",
       "      <th>0</th>\n",
       "      <td>1</td>\n",
       "      <td>Toy Story (1995)</td>\n",
       "      <td>Adventure|Animation|Children|Comedy|Fantasy</td>\n",
       "    </tr>\n",
       "    <tr>\n",
       "      <th>1</th>\n",
       "      <td>2</td>\n",
       "      <td>Jumanji (1995)</td>\n",
       "      <td>Adventure|Children|Fantasy</td>\n",
       "    </tr>\n",
       "    <tr>\n",
       "      <th>2</th>\n",
       "      <td>3</td>\n",
       "      <td>Grumpier Old Men (1995)</td>\n",
       "      <td>Comedy|Romance</td>\n",
       "    </tr>\n",
       "    <tr>\n",
       "      <th>3</th>\n",
       "      <td>4</td>\n",
       "      <td>Waiting to Exhale (1995)</td>\n",
       "      <td>Comedy|Drama|Romance</td>\n",
       "    </tr>\n",
       "    <tr>\n",
       "      <th>4</th>\n",
       "      <td>5</td>\n",
       "      <td>Father of the Bride Part II (1995)</td>\n",
       "      <td>Comedy</td>\n",
       "    </tr>\n",
       "    <tr>\n",
       "      <th>...</th>\n",
       "      <td>...</td>\n",
       "      <td>...</td>\n",
       "      <td>...</td>\n",
       "    </tr>\n",
       "    <tr>\n",
       "      <th>9737</th>\n",
       "      <td>193581</td>\n",
       "      <td>Black Butler: Book of the Atlantic (2017)</td>\n",
       "      <td>Action|Animation|Comedy|Fantasy</td>\n",
       "    </tr>\n",
       "    <tr>\n",
       "      <th>9738</th>\n",
       "      <td>193583</td>\n",
       "      <td>No Game No Life: Zero (2017)</td>\n",
       "      <td>Animation|Comedy|Fantasy</td>\n",
       "    </tr>\n",
       "    <tr>\n",
       "      <th>9739</th>\n",
       "      <td>193585</td>\n",
       "      <td>Flint (2017)</td>\n",
       "      <td>Drama</td>\n",
       "    </tr>\n",
       "    <tr>\n",
       "      <th>9740</th>\n",
       "      <td>193587</td>\n",
       "      <td>Bungo Stray Dogs: Dead Apple (2018)</td>\n",
       "      <td>Action|Animation</td>\n",
       "    </tr>\n",
       "    <tr>\n",
       "      <th>9741</th>\n",
       "      <td>193609</td>\n",
       "      <td>Andrew Dice Clay: Dice Rules (1991)</td>\n",
       "      <td>Comedy</td>\n",
       "    </tr>\n",
       "  </tbody>\n",
       "</table>\n",
       "<p>9742 rows × 3 columns</p>\n",
       "</div>"
      ],
      "text/plain": [
       "      movieId                                      title  \\\n",
       "0           1                           Toy Story (1995)   \n",
       "1           2                             Jumanji (1995)   \n",
       "2           3                    Grumpier Old Men (1995)   \n",
       "3           4                   Waiting to Exhale (1995)   \n",
       "4           5         Father of the Bride Part II (1995)   \n",
       "...       ...                                        ...   \n",
       "9737   193581  Black Butler: Book of the Atlantic (2017)   \n",
       "9738   193583               No Game No Life: Zero (2017)   \n",
       "9739   193585                               Flint (2017)   \n",
       "9740   193587        Bungo Stray Dogs: Dead Apple (2018)   \n",
       "9741   193609        Andrew Dice Clay: Dice Rules (1991)   \n",
       "\n",
       "                                           genres  \n",
       "0     Adventure|Animation|Children|Comedy|Fantasy  \n",
       "1                      Adventure|Children|Fantasy  \n",
       "2                                  Comedy|Romance  \n",
       "3                            Comedy|Drama|Romance  \n",
       "4                                          Comedy  \n",
       "...                                           ...  \n",
       "9737              Action|Animation|Comedy|Fantasy  \n",
       "9738                     Animation|Comedy|Fantasy  \n",
       "9739                                        Drama  \n",
       "9740                             Action|Animation  \n",
       "9741                                       Comedy  \n",
       "\n",
       "[9742 rows x 3 columns]"
      ]
     },
     "execution_count": 2,
     "metadata": {},
     "output_type": "execute_result"
    }
   ],
   "source": [
    "ratings = pd.read_csv('./ml-latest-small/ratings.csv')\n",
    "movies = pd.read_csv('./ml-latest-small/movies.csv')\n",
    "\n",
    "movies"
   ]
  },
  {
   "cell_type": "code",
   "execution_count": 3,
   "metadata": {},
   "outputs": [
    {
     "name": "stdout",
     "output_type": "stream",
     "text": [
      "# of users:  610\n",
      "# of movies:  9724\n"
     ]
    }
   ],
   "source": [
    "# users_id has list of unique userids, same goes to movies_id\n",
    "users_id = ratings.userId.unique().tolist()\n",
    "movies_id = ratings.movieId.unique().tolist()\n",
    "print(\"# of users: \", len(users_id))\n",
    "print('# of movies: ', len(movies_id))"
   ]
  },
  {
   "cell_type": "code",
   "execution_count": 4,
   "metadata": {},
   "outputs": [
    {
     "name": "stdout",
     "output_type": "stream",
     "text": [
      "4.0\n"
     ]
    }
   ],
   "source": [
    "# given user id and movie id, it returns its corresponding rating\n",
    "def get_rating(userId, movieId):\n",
    "    return (ratings.loc[(ratings.userId==userId) & (ratings.movieId==movieId), 'rating'].iloc[0]) # --> 4.0\n",
    "print(get_rating(1,1))"
   ]
  },
  {
   "cell_type": "code",
   "execution_count": 5,
   "metadata": {},
   "outputs": [
    {
     "name": "stdout",
     "output_type": "stream",
     "text": [
      "[318, 333, 1704, 3578, 6874, 8798, 46970, 48516, 58559, 60756, 68157, 71535, 74458, 77455, 79132, 80489, 80906, 86345, 89774, 91529, 91658, 99114, 106782, 109487, 112552, 114060, 115713, 122882, 131724]\n"
     ]
    }
   ],
   "source": [
    "# given user id, returns list of all movies(movieId) the user has rated\n",
    "def get_movieIds(userId):\n",
    "    return (ratings.loc[(ratings.userId==userId), 'movieId']).tolist()\n",
    "print(get_movieIds(2))"
   ]
  },
  {
   "cell_type": "code",
   "execution_count": 6,
   "metadata": {},
   "outputs": [
    {
     "name": "stdout",
     "output_type": "stream",
     "text": [
      "Jumanji (1995)\n"
     ]
    }
   ],
   "source": [
    "# given movie id, returns corresponding movie title\n",
    "def get_movie_title(movieId):\n",
    "    return (movies.loc[(movies.movieId == movieId), 'title'].iloc[0])\n",
    "print(get_movie_title(2))"
   ]
  },
  {
   "cell_type": "code",
   "execution_count": 7,
   "metadata": {},
   "outputs": [
    {
     "name": "stdout",
     "output_type": "stream",
     "text": [
      "distance= 7.810249675906654\n"
     ]
    }
   ],
   "source": [
    "# calculate euclidean distance between 2 users by finding the common movies they have rated and applying euclidean\n",
    "# distance formula between the 2 users' ratings.\n",
    "from scipy.spatial import distance\n",
    "def euclidean_dist(user1_id, user2_id):\n",
    "    user1_movie_list = ratings.loc[ratings.userId == user1_id, 'movieId'].tolist()\n",
    "    user2_movie_list = ratings.loc[ratings.userId == user2_id, 'movieId'].tolist()\n",
    "    dist = 0\n",
    "    for movie in user1_movie_list:\n",
    "        if movie in user2_movie_list:\n",
    "            user1_rating = get_rating(user1_id, movie)\n",
    "            user2_rating = get_rating(user2_id, movie)\n",
    "            dist += pow((user1_rating-user2_rating),2) # (x-y)^2\n",
    "    dist = sqrt(dist)\n",
    "    return dist\n",
    "            \n",
    "print(\"distance=\",euclidean_dist(1,500))"
   ]
  },
  {
   "cell_type": "code",
   "execution_count": 8,
   "metadata": {},
   "outputs": [
    {
     "name": "stdout",
     "output_type": "stream",
     "text": [
      "0.3333333333333333\n"
     ]
    }
   ],
   "source": [
    "# calculate pearson coefficient between 2 users by finding the common movies they have rated and applying pearson\n",
    "# formula between the 2 users' ratings.\n",
    "def pearson_coeff(user1_id, user2_id):\n",
    "    movies_common  = []\n",
    "    user1_movie_list = ratings.loc[ratings.userId == user1_id, 'movieId'].tolist()\n",
    "    user2_movie_list = ratings.loc[ratings.userId == user2_id, 'movieId'].tolist()\n",
    "    for movie in user1_movie_list:\n",
    "        if movie in user2_movie_list:\n",
    "            movies_common.append(movie)\n",
    "    \n",
    "    \n",
    "    \n",
    "    n = len(movies_common)\n",
    "    if (n == 0):\n",
    "        return 0\n",
    "    sum_x = sum([get_rating(user1_id, movie) for movie in movies_common])\n",
    "    sum_y = sum([get_rating(user2_id, movie) for movie in movies_common])\n",
    "    sum_x2 = sum([pow(get_rating(user1_id, movie),2) for movie in movies_common])\n",
    "    sum_y2 = sum([pow(get_rating(user2_id, movie),2) for movie in movies_common])\n",
    "    \n",
    "    numerator = sum([get_rating(user1_id, movie) * get_rating(user2_id, movie) for movie in movies_common]) - ((sum_x*sum_y)/n)\n",
    "    denominator = sqrt((sum_x2-pow(sum_x, 2)/n) * (sum_y2 - pow(sum_y,2)/n))\n",
    "    \n",
    "    if denominator == 0:\n",
    "        return 0\n",
    "    return numerator/denominator        \n",
    "\n",
    "print('{0}'.format(pearson_coeff(11, 30)))\n",
    "    "
   ]
  },
  {
   "cell_type": "code",
   "execution_count": 9,
   "metadata": {},
   "outputs": [],
   "source": [
    "# returns recommended list of movies according to pearson coefficient by calculating similarity between the given users\n",
    "# and all the other users and then sorting the list in the reverse order to get movies with highest correlations first.\n",
    "def movie_recommendation(user_id):\n",
    "    user_list = ratings.userId.unique().tolist()\n",
    "    movies_watched_by_user_id = get_movieIds(user_id)\n",
    "    # print(\"movies watched by user: \")\n",
    "    # for movie in movies_watched_by_user_id:\n",
    "    #     print(get_movie_title(movie))\n",
    "    total = {}\n",
    "    similarity_sum = {}\n",
    "    for user in user_list[:100]:\n",
    "        if user != user_id:\n",
    "            r = pearson_coeff(user_id, user)\n",
    "            if r > 0:\n",
    "                for movie in get_movieIds(user):\n",
    "                    # get movies that are not watched by user_id\n",
    "                    if movie not in movies_watched_by_user_id or get_rating(user_id, movie) == 0:\n",
    "                        total[movie] = 0\n",
    "                        total[movie] += get_rating(user, movie) * r\n",
    "                        similarity_sum[movie] = 0\n",
    "                        similarity_sum[movie] += r\n",
    "    ranking = [(tot/similarity_sum[movie],movie) for movie,tot in total.items()]\n",
    "    # print(ranking)\n",
    "    ranking.sort()\n",
    "    # print(ranking)\n",
    "    ranking.reverse()\n",
    "    # print(ranking)\n",
    "    recommendations = [get_movie_title(movie) for r, movie in ranking]\n",
    "    return recommendations[:10]                        "
   ]
  },
  {
   "cell_type": "code",
   "execution_count": 10,
   "metadata": {},
   "outputs": [
    {
     "name": "stdout",
     "output_type": "stream",
     "text": [
      "euclidean recommendation example\n",
      "['Deadpool 2 (2018)', 'Sherlock - A Study in Pink (2010)', 'Wonder (2017)', 'Coco (2017)', 'Three Billboards Outside Ebbing, Missouri (2017)', 'Black Mirror', 'Black Mirror: White Christmas (2014)', 'The Godfather Trilogy: 1972-1990 (1992)', 'Arrival (2016)', 'All Yours (2016)']\n"
     ]
    }
   ],
   "source": [
    "# returns recommended list of movies according to euclidean distance by calculating similarity between the given users\n",
    "# and all the other users and then sorting the list to get movies with lowest distance first.\n",
    "def movie_recommendation_euclidean(user_id):\n",
    "    user_list = ratings.userId.unique().tolist()\n",
    "    movies_watched_by_user_id = get_movieIds(user_id)\n",
    "    total = {}\n",
    "    similarity_sum = {}\n",
    "    for user in user_list[:100]:\n",
    "        if user != user_id:\n",
    "            r = euclidean_dist(user_id, user)\n",
    "            if r > 0:\n",
    "                for movie in get_movieIds(user):\n",
    "                    # get movies that are not watched by user_id\n",
    "                    if movie not in movies_watched_by_user_id or get_rating(user_id, movie) == 0:\n",
    "                        total[movie] = 0\n",
    "                        total[movie] += get_rating(user, movie) * r\n",
    "                        similarity_sum[movie] = 0\n",
    "                        similarity_sum[movie] += r\n",
    "    ranking = [(tot/similarity_sum[movie],movie) for movie,tot in total.items()]\n",
    "    ranking.sort()\n",
    "    ranking.reverse()\n",
    "    recommendations = [get_movie_title(movie) for r, movie in ranking]\n",
    "    return recommendations[:10]\n",
    "    return 0\n",
    "\n",
    "print(\"euclidean recommendation example\")\n",
    "print(movie_recommendation_euclidean(2))"
   ]
  },
  {
   "cell_type": "markdown",
   "metadata": {},
   "source": [
    "## Content Based Filtering\n",
    "Below code we use to cauculate the similarity between two movies using cosine similarity.We take the genre as the feature.We combine it to a single string seperated by space and apply CountVectorizer on it. We make use of Cosine_similarity from sklearn to create a similarity matrix for each movie.\n",
    "The diagnol elements are 1,as the movie is similar to itself.We index to the matrix for each movie and obtain the similarity vector to all movies.We sort it by the value in descending order and return the top 10 similar movies ,again getting the title via the index.\n",
    "We Call this method for the all the movies in the user watched list."
   ]
  },
  {
   "cell_type": "code",
   "execution_count": 11,
   "metadata": {},
   "outputs": [
    {
     "data": {
      "text/html": [
       "<div>\n",
       "<style scoped>\n",
       "    .dataframe tbody tr th:only-of-type {\n",
       "        vertical-align: middle;\n",
       "    }\n",
       "\n",
       "    .dataframe tbody tr th {\n",
       "        vertical-align: top;\n",
       "    }\n",
       "\n",
       "    .dataframe thead th {\n",
       "        text-align: right;\n",
       "    }\n",
       "</style>\n",
       "<table border=\"1\" class=\"dataframe\">\n",
       "  <thead>\n",
       "    <tr style=\"text-align: right;\">\n",
       "      <th></th>\n",
       "      <th>movieId</th>\n",
       "      <th>title</th>\n",
       "      <th>genres</th>\n",
       "    </tr>\n",
       "  </thead>\n",
       "  <tbody>\n",
       "    <tr>\n",
       "      <th>0</th>\n",
       "      <td>1</td>\n",
       "      <td>Toy Story</td>\n",
       "      <td>adventure animation children comedy fantasy</td>\n",
       "    </tr>\n",
       "    <tr>\n",
       "      <th>1</th>\n",
       "      <td>2</td>\n",
       "      <td>Jumanji</td>\n",
       "      <td>adventure children fantasy</td>\n",
       "    </tr>\n",
       "    <tr>\n",
       "      <th>2</th>\n",
       "      <td>3</td>\n",
       "      <td>Grumpier Old Men</td>\n",
       "      <td>comedy romance</td>\n",
       "    </tr>\n",
       "    <tr>\n",
       "      <th>3</th>\n",
       "      <td>4</td>\n",
       "      <td>Waiting to Exhale</td>\n",
       "      <td>comedy drama romance</td>\n",
       "    </tr>\n",
       "    <tr>\n",
       "      <th>4</th>\n",
       "      <td>5</td>\n",
       "      <td>Father of the Bride Part II</td>\n",
       "      <td>comedy</td>\n",
       "    </tr>\n",
       "    <tr>\n",
       "      <th>...</th>\n",
       "      <td>...</td>\n",
       "      <td>...</td>\n",
       "      <td>...</td>\n",
       "    </tr>\n",
       "    <tr>\n",
       "      <th>9737</th>\n",
       "      <td>193581</td>\n",
       "      <td>Black Butler: Book of the Atlantic</td>\n",
       "      <td>action animation comedy fantasy</td>\n",
       "    </tr>\n",
       "    <tr>\n",
       "      <th>9738</th>\n",
       "      <td>193583</td>\n",
       "      <td>No Game No Life: Zero</td>\n",
       "      <td>animation comedy fantasy</td>\n",
       "    </tr>\n",
       "    <tr>\n",
       "      <th>9739</th>\n",
       "      <td>193585</td>\n",
       "      <td>Flint</td>\n",
       "      <td>drama</td>\n",
       "    </tr>\n",
       "    <tr>\n",
       "      <th>9740</th>\n",
       "      <td>193587</td>\n",
       "      <td>Bungo Stray Dogs: Dead Apple</td>\n",
       "      <td>action animation</td>\n",
       "    </tr>\n",
       "    <tr>\n",
       "      <th>9741</th>\n",
       "      <td>193609</td>\n",
       "      <td>Andrew Dice Clay: Dice Rules</td>\n",
       "      <td>comedy</td>\n",
       "    </tr>\n",
       "  </tbody>\n",
       "</table>\n",
       "<p>9742 rows × 3 columns</p>\n",
       "</div>"
      ],
      "text/plain": [
       "      movieId                               title  \\\n",
       "0           1                           Toy Story   \n",
       "1           2                             Jumanji   \n",
       "2           3                    Grumpier Old Men   \n",
       "3           4                   Waiting to Exhale   \n",
       "4           5         Father of the Bride Part II   \n",
       "...       ...                                 ...   \n",
       "9737   193581  Black Butler: Book of the Atlantic   \n",
       "9738   193583               No Game No Life: Zero   \n",
       "9739   193585                               Flint   \n",
       "9740   193587        Bungo Stray Dogs: Dead Apple   \n",
       "9741   193609        Andrew Dice Clay: Dice Rules   \n",
       "\n",
       "                                           genres  \n",
       "0     adventure animation children comedy fantasy  \n",
       "1                      adventure children fantasy  \n",
       "2                                  comedy romance  \n",
       "3                            comedy drama romance  \n",
       "4                                          comedy  \n",
       "...                                           ...  \n",
       "9737              action animation comedy fantasy  \n",
       "9738                     animation comedy fantasy  \n",
       "9739                                        drama  \n",
       "9740                             action animation  \n",
       "9741                                       comedy  \n",
       "\n",
       "[9742 rows x 3 columns]"
      ]
     },
     "execution_count": 11,
     "metadata": {},
     "output_type": "execute_result"
    }
   ],
   "source": [
    "#Reading movie csv file ,into a different dataframe\n",
    "movies2 = pd.read_csv('./ml-latest-small/movies.csv')\n",
    "\n",
    "#Cleaning and removing the year from the movie titles\n",
    "split_values = movies2['title'].str.split(\"(\", n = 1, expand = True)\n",
    "movies2.title= split_values[0]\n",
    "\n",
    "#Iterating through the rows and removing any white space characters at the end and processing genre ,to replace '|'\n",
    "#with white space and converting it to lower characters.\n",
    "for index,row in movies2.iterrows():\n",
    "    movies2.loc[index,'title']=row['title'].rstrip()\n",
    "    movies2.loc[index,'genres']=row['genres'].replace('|',' ').lower()\n",
    "movies2"
   ]
  },
  {
   "cell_type": "code",
   "execution_count": 12,
   "metadata": {},
   "outputs": [
    {
     "data": {
      "text/html": [
       "<div>\n",
       "<style scoped>\n",
       "    .dataframe tbody tr th:only-of-type {\n",
       "        vertical-align: middle;\n",
       "    }\n",
       "\n",
       "    .dataframe tbody tr th {\n",
       "        vertical-align: top;\n",
       "    }\n",
       "\n",
       "    .dataframe thead th {\n",
       "        text-align: right;\n",
       "    }\n",
       "</style>\n",
       "<table border=\"1\" class=\"dataframe\">\n",
       "  <thead>\n",
       "    <tr style=\"text-align: right;\">\n",
       "      <th></th>\n",
       "      <th>genres</th>\n",
       "    </tr>\n",
       "    <tr>\n",
       "      <th>title</th>\n",
       "      <th></th>\n",
       "    </tr>\n",
       "  </thead>\n",
       "  <tbody>\n",
       "    <tr>\n",
       "      <th>Toy Story</th>\n",
       "      <td>adventure animation children comedy fantasy</td>\n",
       "    </tr>\n",
       "    <tr>\n",
       "      <th>Jumanji</th>\n",
       "      <td>adventure children fantasy</td>\n",
       "    </tr>\n",
       "    <tr>\n",
       "      <th>Grumpier Old Men</th>\n",
       "      <td>comedy romance</td>\n",
       "    </tr>\n",
       "    <tr>\n",
       "      <th>Waiting to Exhale</th>\n",
       "      <td>comedy drama romance</td>\n",
       "    </tr>\n",
       "    <tr>\n",
       "      <th>Father of the Bride Part II</th>\n",
       "      <td>comedy</td>\n",
       "    </tr>\n",
       "    <tr>\n",
       "      <th>...</th>\n",
       "      <td>...</td>\n",
       "    </tr>\n",
       "    <tr>\n",
       "      <th>Black Butler: Book of the Atlantic</th>\n",
       "      <td>action animation comedy fantasy</td>\n",
       "    </tr>\n",
       "    <tr>\n",
       "      <th>No Game No Life: Zero</th>\n",
       "      <td>animation comedy fantasy</td>\n",
       "    </tr>\n",
       "    <tr>\n",
       "      <th>Flint</th>\n",
       "      <td>drama</td>\n",
       "    </tr>\n",
       "    <tr>\n",
       "      <th>Bungo Stray Dogs: Dead Apple</th>\n",
       "      <td>action animation</td>\n",
       "    </tr>\n",
       "    <tr>\n",
       "      <th>Andrew Dice Clay: Dice Rules</th>\n",
       "      <td>comedy</td>\n",
       "    </tr>\n",
       "  </tbody>\n",
       "</table>\n",
       "<p>9742 rows × 1 columns</p>\n",
       "</div>"
      ],
      "text/plain": [
       "                                                                         genres\n",
       "title                                                                          \n",
       "Toy Story                           adventure animation children comedy fantasy\n",
       "Jumanji                                              adventure children fantasy\n",
       "Grumpier Old Men                                                 comedy romance\n",
       "Waiting to Exhale                                          comedy drama romance\n",
       "Father of the Bride Part II                                              comedy\n",
       "...                                                                         ...\n",
       "Black Butler: Book of the Atlantic              action animation comedy fantasy\n",
       "No Game No Life: Zero                                  animation comedy fantasy\n",
       "Flint                                                                     drama\n",
       "Bungo Stray Dogs: Dead Apple                                   action animation\n",
       "Andrew Dice Clay: Dice Rules                                             comedy\n",
       "\n",
       "[9742 rows x 1 columns]"
      ]
     },
     "execution_count": 12,
     "metadata": {},
     "output_type": "execute_result"
    }
   ],
   "source": [
    "#We set the index to title and delete other columns ,and have only one column genre which is used for vectorization.\n",
    "del movies2['movieId']\n",
    "movies2.set_index('title',inplace=True)\n",
    "movies2"
   ]
  },
  {
   "cell_type": "code",
   "execution_count": 13,
   "metadata": {},
   "outputs": [
    {
     "data": {
      "text/plain": [
       "array([[1.        , 0.77459667, 0.31622777, ..., 0.        , 0.31622777,\n",
       "        0.4472136 ],\n",
       "       [0.77459667, 1.        , 0.        , ..., 0.        , 0.        ,\n",
       "        0.        ],\n",
       "       [0.31622777, 0.        , 1.        , ..., 0.        , 0.        ,\n",
       "        0.70710678],\n",
       "       ...,\n",
       "       [0.        , 0.        , 0.        , ..., 1.        , 0.        ,\n",
       "        0.        ],\n",
       "       [0.31622777, 0.        , 0.        , ..., 0.        , 1.        ,\n",
       "        0.        ],\n",
       "       [0.4472136 , 0.        , 0.70710678, ..., 0.        , 0.        ,\n",
       "        1.        ]])"
      ]
     },
     "execution_count": 13,
     "metadata": {},
     "output_type": "execute_result"
    }
   ],
   "source": [
    "#Calling CountVectorizer from sklearn and calculating cosine similarity which is stored in a matrix.Diagnol elments are one because \n",
    "#the movie is similar to itself.\n",
    "count = CountVectorizer()\n",
    "count_matrix = count.fit_transform(movies2['genres'])\n",
    "\n",
    "# generating the cosine similarity matrix\n",
    "cosine_sim = cosine_similarity(count_matrix, count_matrix)\n",
    "cosine_sim"
   ]
  },
  {
   "cell_type": "code",
   "execution_count": 14,
   "metadata": {},
   "outputs": [],
   "source": [
    "#Creating a series for the movie titles so that they are matched with ordered numerical list used later\n",
    "indices = pd.Series(movies2.index)"
   ]
  },
  {
   "cell_type": "code",
   "execution_count": 15,
   "metadata": {},
   "outputs": [],
   "source": [
    "def content_recommendation(title, cosine_sim = cosine_sim):\n",
    "    recommended_movies=[]\n",
    "    \n",
    "    #Finding the index of the title in the series created initially.\n",
    "    idx = indices[indices == title].index[0]\n",
    "    \n",
    "    #Indexing into the similarity matrix and sorting the values in descending order.\n",
    "    score_series = pd.Series(cosine_sim[idx]).sort_values(ascending = False)\n",
    "    \n",
    "    #Selecting the top 10 most similar movies ,excluding the first index,as it is the movie itself.\n",
    "    top_10_indexes = list(score_series.iloc[1:11].index)\n",
    "\n",
    "    #Appending the movie titles and returning \n",
    "    for i in top_10_indexes:\n",
    "        recommended_movies.append(list(movies2.index)[i])\n",
    "    \n",
    "    return recommended_movies"
   ]
  },
  {
   "cell_type": "code",
   "execution_count": 17,
   "metadata": {},
   "outputs": [
    {
     "data": {
      "text/html": [
       "<div>\n",
       "<style scoped>\n",
       "    .dataframe tbody tr th:only-of-type {\n",
       "        vertical-align: middle;\n",
       "    }\n",
       "\n",
       "    .dataframe tbody tr th {\n",
       "        vertical-align: top;\n",
       "    }\n",
       "\n",
       "    .dataframe thead th {\n",
       "        text-align: right;\n",
       "    }\n",
       "</style>\n",
       "<table border=\"1\" class=\"dataframe\">\n",
       "  <thead>\n",
       "    <tr style=\"text-align: right;\">\n",
       "      <th></th>\n",
       "      <th>userId</th>\n",
       "      <th>movieId</th>\n",
       "      <th>rating</th>\n",
       "      <th>title</th>\n",
       "    </tr>\n",
       "  </thead>\n",
       "  <tbody>\n",
       "    <tr>\n",
       "      <th>0</th>\n",
       "      <td>1</td>\n",
       "      <td>1</td>\n",
       "      <td>4.0</td>\n",
       "      <td>Toy Story (1995)</td>\n",
       "    </tr>\n",
       "    <tr>\n",
       "      <th>1</th>\n",
       "      <td>1</td>\n",
       "      <td>3</td>\n",
       "      <td>4.0</td>\n",
       "      <td>Grumpier Old Men (1995)</td>\n",
       "    </tr>\n",
       "    <tr>\n",
       "      <th>2</th>\n",
       "      <td>1</td>\n",
       "      <td>6</td>\n",
       "      <td>4.0</td>\n",
       "      <td>Heat (1995)</td>\n",
       "    </tr>\n",
       "    <tr>\n",
       "      <th>3</th>\n",
       "      <td>1</td>\n",
       "      <td>47</td>\n",
       "      <td>5.0</td>\n",
       "      <td>Seven (a.k.a. Se7en) (1995)</td>\n",
       "    </tr>\n",
       "    <tr>\n",
       "      <th>4</th>\n",
       "      <td>1</td>\n",
       "      <td>50</td>\n",
       "      <td>5.0</td>\n",
       "      <td>Usual Suspects, The (1995)</td>\n",
       "    </tr>\n",
       "    <tr>\n",
       "      <th>...</th>\n",
       "      <td>...</td>\n",
       "      <td>...</td>\n",
       "      <td>...</td>\n",
       "      <td>...</td>\n",
       "    </tr>\n",
       "    <tr>\n",
       "      <th>100831</th>\n",
       "      <td>610</td>\n",
       "      <td>166534</td>\n",
       "      <td>4.0</td>\n",
       "      <td>Split (2017)</td>\n",
       "    </tr>\n",
       "    <tr>\n",
       "      <th>100832</th>\n",
       "      <td>610</td>\n",
       "      <td>168248</td>\n",
       "      <td>5.0</td>\n",
       "      <td>John Wick: Chapter Two (2017)</td>\n",
       "    </tr>\n",
       "    <tr>\n",
       "      <th>100833</th>\n",
       "      <td>610</td>\n",
       "      <td>168250</td>\n",
       "      <td>5.0</td>\n",
       "      <td>Get Out (2017)</td>\n",
       "    </tr>\n",
       "    <tr>\n",
       "      <th>100834</th>\n",
       "      <td>610</td>\n",
       "      <td>168252</td>\n",
       "      <td>5.0</td>\n",
       "      <td>Logan (2017)</td>\n",
       "    </tr>\n",
       "    <tr>\n",
       "      <th>100835</th>\n",
       "      <td>610</td>\n",
       "      <td>170875</td>\n",
       "      <td>3.0</td>\n",
       "      <td>The Fate of the Furious (2017)</td>\n",
       "    </tr>\n",
       "  </tbody>\n",
       "</table>\n",
       "<p>100836 rows × 4 columns</p>\n",
       "</div>"
      ],
      "text/plain": [
       "        userId  movieId  rating                           title\n",
       "0            1        1     4.0                Toy Story (1995)\n",
       "1            1        3     4.0         Grumpier Old Men (1995)\n",
       "2            1        6     4.0                     Heat (1995)\n",
       "3            1       47     5.0     Seven (a.k.a. Se7en) (1995)\n",
       "4            1       50     5.0      Usual Suspects, The (1995)\n",
       "...        ...      ...     ...                             ...\n",
       "100831     610   166534     4.0                    Split (2017)\n",
       "100832     610   168248     5.0   John Wick: Chapter Two (2017)\n",
       "100833     610   168250     5.0                  Get Out (2017)\n",
       "100834     610   168252     5.0                    Logan (2017)\n",
       "100835     610   170875     3.0  The Fate of the Furious (2017)\n",
       "\n",
       "[100836 rows x 4 columns]"
      ]
     },
     "execution_count": 17,
     "metadata": {},
     "output_type": "execute_result"
    }
   ],
   "source": [
    "#Merging user rating and movies table,so that we get the movie title along with the movieId and the rating\n",
    "usr_rat=pd.merge(ratings,movies,how='left',on='movieId')[['userId','movieId','rating','title']]\n",
    "usr_rat"
   ]
  },
  {
   "cell_type": "code",
   "execution_count": 18,
   "metadata": {},
   "outputs": [
    {
     "data": {
      "text/html": [
       "<div>\n",
       "<style scoped>\n",
       "    .dataframe tbody tr th:only-of-type {\n",
       "        vertical-align: middle;\n",
       "    }\n",
       "\n",
       "    .dataframe tbody tr th {\n",
       "        vertical-align: top;\n",
       "    }\n",
       "\n",
       "    .dataframe thead th {\n",
       "        text-align: right;\n",
       "    }\n",
       "</style>\n",
       "<table border=\"1\" class=\"dataframe\">\n",
       "  <thead>\n",
       "    <tr style=\"text-align: right;\">\n",
       "      <th></th>\n",
       "      <th>userId</th>\n",
       "      <th>movieId</th>\n",
       "      <th>rating</th>\n",
       "      <th>timestamp</th>\n",
       "    </tr>\n",
       "  </thead>\n",
       "  <tbody>\n",
       "    <tr>\n",
       "      <th>100836</th>\n",
       "      <td>612.0</td>\n",
       "      <td>1213.0</td>\n",
       "      <td>4.0</td>\n",
       "      <td>1.606710e+09</td>\n",
       "    </tr>\n",
       "    <tr>\n",
       "      <th>100837</th>\n",
       "      <td>612.0</td>\n",
       "      <td>6.0</td>\n",
       "      <td>5.0</td>\n",
       "      <td>1.606710e+09</td>\n",
       "    </tr>\n",
       "  </tbody>\n",
       "</table>\n",
       "</div>"
      ],
      "text/plain": [
       "        userId  movieId  rating     timestamp\n",
       "100836   612.0   1213.0     4.0  1.606710e+09\n",
       "100837   612.0      6.0     5.0  1.606710e+09"
      ]
     },
     "execution_count": 18,
     "metadata": {},
     "output_type": "execute_result"
    }
   ],
   "source": [
    "#Function to add new user to the rating table ,which takes a userId movieIds and rating for the repective movies.\n",
    "#We are adding a new user with id 612 who likes crime movies and has watched Goodfellas and Heat\n",
    "def add_user(userid,movies,usr_rating):\n",
    "    for mov_idx in range(len(movies)):\n",
    "        row=[]\n",
    "        row.append(userid)\n",
    "        row.append(movies[mov_idx])\n",
    "        row.append(usr_rating[mov_idx])\n",
    "        row.append(time.time())\n",
    "        ratings.loc[ratings.index.max() + 1]=row\n",
    "#Adding the User\n",
    "add_user(612,[1213,6],[4,5])\n",
    "#Outputing the respective user in ratings table\n",
    "ratings.loc[ratings['userId']==612]"
   ]
  },
  {
   "cell_type": "code",
   "execution_count": 19,
   "metadata": {},
   "outputs": [
    {
     "data": {
      "text/plain": [
       "['The Martian (2015)',\n",
       " 'Mad Max: Fury Road (2015)',\n",
       " 'Star Trek Into Darkness (2013)',\n",
       " '21 Jump Street (2012)',\n",
       " 'The Hunger Games (2012)',\n",
       " 'Harry Potter and the Deathly Hallows: Part 1 (2010)',\n",
       " 'Inception (2010)',\n",
       " 'How to Train Your Dragon (2010)',\n",
       " \"She's Out of My League (2010)\",\n",
       " 'Avatar (2009)']"
      ]
     },
     "execution_count": 19,
     "metadata": {},
     "output_type": "execute_result"
    }
   ],
   "source": [
    "#Making recommendation for the new user using collaborative filtering.\n",
    "movie_recommendation(612)"
   ]
  },
  {
   "cell_type": "code",
   "execution_count": 20,
   "metadata": {},
   "outputs": [
    {
     "data": {
      "text/plain": [
       "['Gotti',\n",
       " 'Virgin Spring, The',\n",
       " \"Man Who Wasn't There, The\",\n",
       " 'Heist',\n",
       " 'No Country for Old Men',\n",
       " 'Pickpocket',\n",
       " 'American Buffalo',\n",
       " 'Bonnie and Clyde',\n",
       " 'Shattered Glass',\n",
       " 'Battles Without Honor & Humanity']"
      ]
     },
     "execution_count": 20,
     "metadata": {},
     "output_type": "execute_result"
    }
   ],
   "source": [
    "#Making recommendatio using content based approach\n",
    "content_recommendation('Goodfellas')"
   ]
  },
  {
   "cell_type": "code",
   "execution_count": 21,
   "metadata": {},
   "outputs": [
    {
     "data": {
      "text/plain": [
       "['Punisher, The',\n",
       " 'Shaft',\n",
       " 'xXx',\n",
       " 'Dead Pool, The',\n",
       " 'Bourne Ultimatum, The',\n",
       " 'Ninja: Shadow of a Tear',\n",
       " 'Furious 7',\n",
       " 'Poker Night',\n",
       " 'Headhunters',\n",
       " 'Riki-Oh: The Story of Ricky']"
      ]
     },
     "execution_count": 21,
     "metadata": {},
     "output_type": "execute_result"
    }
   ],
   "source": [
    "content_recommendation('Heat')"
   ]
  },
  {
   "cell_type": "code",
   "execution_count": 22,
   "metadata": {},
   "outputs": [
    {
     "name": "stdout",
     "output_type": "stream",
     "text": [
      "Gotti\n",
      "Virgin Spring, The\n",
      "Man Who Wasn't There, The\n",
      "Heist\n",
      "No Country for Old Men\n",
      "Pickpocket\n",
      "Punisher, The\n",
      "Shaft\n",
      "xXx\n",
      "Dead Pool, The\n",
      "Bourne Ultimatum, The\n",
      "Ninja: Shadow of a Tear\n"
     ]
    }
   ],
   "source": [
    "movies=['Goodfellas','Heat']\n",
    "final=[]\n",
    "#Taking 5 movies from each movies watched\n",
    "for mov in movies:\n",
    "    final=final+content_recommendation(mov)[:6]\n",
    "for mov in final:\n",
    "    print(mov)"
   ]
  }
 ],
 "metadata": {
  "kernelspec": {
   "display_name": "Python 3",
   "language": "python",
   "name": "python3"
  },
  "language_info": {
   "codemirror_mode": {
    "name": "ipython",
    "version": 3
   },
   "file_extension": ".py",
   "mimetype": "text/x-python",
   "name": "python",
   "nbconvert_exporter": "python",
   "pygments_lexer": "ipython3",
   "version": "3.7.6"
  }
 },
 "nbformat": 4,
 "nbformat_minor": 4
}
